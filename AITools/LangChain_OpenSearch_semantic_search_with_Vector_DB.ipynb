{
 "cells": [
  {
   "cell_type": "markdown",
   "id": "b847596f",
   "metadata": {},
   "source": [
    "# Semantic Search with Vector Databases and LLM\n",
    "This example is about implementing a basic example of Semantic Search.  \n",
    "The technology is now easily available by combining frameworks and models easily available and for the most part also available as open software/resources, as well as cloud services with a subscription.  \n",
    "Semantic search can be applied to querying a set of documents. In this example we will use just one pdf document for simplicity, the article \"A Roadmap for HEP Software and Computing R&D for the 2020s\"\n",
    "\n",
    "The implementation steps are:  \n",
    "1. Take an example document and split it in chunks\n",
    "2. Create embeddings for each document chunk\n",
    "3. Store the embeddings in a Vector Database\n",
    "4. Perform semantic search using embeddings\n",
    "5. Transform the results of the search into natural language using a Large Language Model\n"
   ]
  },
  {
   "cell_type": "code",
   "execution_count": 1,
   "id": "d3790453",
   "metadata": {},
   "outputs": [],
   "source": [
    "# This requires langchain and pypdf, pip install if not already available\n",
    "# !pip install langchain\n",
    "# !pip install pypdf"
   ]
  },
  {
   "cell_type": "code",
   "execution_count": 1,
   "id": "d6bf3bd8",
   "metadata": {
    "scrolled": true
   },
   "outputs": [
    {
     "name": "stdout",
     "output_type": "stream",
     "text": [
      "  % Total    % Received % Xferd  Average Speed   Time    Time     Time  Current\n",
      "                                 Dload  Upload   Total   Spent    Left  Speed\n",
      "100  833k  100  833k    0     0   336k      0  0:00:02  0:00:02 --:--:--  336k\n"
     ]
    }
   ],
   "source": [
    "# Download the document used in this exmaple,\n",
    "# the article \"A Roadmap for HEP Software and Computing R&D for the 2020s\"\n",
    "# see https://arxiv.org/abs/1712.06982\n",
    "\n",
    "# Download a copy of the document and save it as WLCG_roadmap.pdf:\n",
    "! curl https://arxiv.org/pdf/1712.06982.pdf -o WLCG_roadmap.pdf\n"
   ]
  },
  {
   "cell_type": "code",
   "execution_count": 2,
   "id": "7b536561",
   "metadata": {},
   "outputs": [],
   "source": [
    "from langchain.document_loaders import PyPDFLoader\n",
    "\n",
    "loader = PyPDFLoader(\"WLCG_roadmap.pdf\")\n",
    "pages = loader.load_and_split()"
   ]
  },
  {
   "cell_type": "markdown",
   "id": "1d785f03",
   "metadata": {},
   "source": [
    "## 2. Create embeddings for each document chunk"
   ]
  },
  {
   "cell_type": "code",
   "execution_count": 2,
   "id": "2b72d16a",
   "metadata": {},
   "outputs": [],
   "source": [
    "# !pip install sentence_transformers"
   ]
  },
  {
   "cell_type": "code",
   "execution_count": 3,
   "id": "f0400697",
   "metadata": {},
   "outputs": [
    {
     "data": {
      "application/vnd.jupyter.widget-view+json": {
       "model_id": "ed748f38799a4c8fbd43857e8ab02d1f",
       "version_major": 2,
       "version_minor": 0
      },
      "text/plain": [
       "Downloading (…)a8e1d/.gitattributes:   0%|          | 0.00/1.18k [00:00<?, ?B/s]"
      ]
     },
     "metadata": {},
     "output_type": "display_data"
    },
    {
     "data": {
      "application/vnd.jupyter.widget-view+json": {
       "model_id": "fb7a29075d3b4c9dba77e8c3cae3b8b7",
       "version_major": 2,
       "version_minor": 0
      },
      "text/plain": [
       "Downloading (…)_Pooling/config.json:   0%|          | 0.00/190 [00:00<?, ?B/s]"
      ]
     },
     "metadata": {},
     "output_type": "display_data"
    },
    {
     "data": {
      "application/vnd.jupyter.widget-view+json": {
       "model_id": "4755b56ef8a142ccaa5cdafba9c5ed49",
       "version_major": 2,
       "version_minor": 0
      },
      "text/plain": [
       "Downloading (…)b20bca8e1d/README.md:   0%|          | 0.00/10.6k [00:00<?, ?B/s]"
      ]
     },
     "metadata": {},
     "output_type": "display_data"
    },
    {
     "data": {
      "application/vnd.jupyter.widget-view+json": {
       "model_id": "63bd31f3ff464ef994058ac2f3eee2ff",
       "version_major": 2,
       "version_minor": 0
      },
      "text/plain": [
       "Downloading (…)0bca8e1d/config.json:   0%|          | 0.00/571 [00:00<?, ?B/s]"
      ]
     },
     "metadata": {},
     "output_type": "display_data"
    },
    {
     "data": {
      "application/vnd.jupyter.widget-view+json": {
       "model_id": "2c89b674ae5a49268fbf241bdb959380",
       "version_major": 2,
       "version_minor": 0
      },
      "text/plain": [
       "Downloading (…)ce_transformers.json:   0%|          | 0.00/116 [00:00<?, ?B/s]"
      ]
     },
     "metadata": {},
     "output_type": "display_data"
    },
    {
     "data": {
      "application/vnd.jupyter.widget-view+json": {
       "model_id": "ae39cc78368649368b5898da7953d97e",
       "version_major": 2,
       "version_minor": 0
      },
      "text/plain": [
       "Downloading (…)e1d/data_config.json:   0%|          | 0.00/39.3k [00:00<?, ?B/s]"
      ]
     },
     "metadata": {},
     "output_type": "display_data"
    },
    {
     "data": {
      "application/vnd.jupyter.widget-view+json": {
       "model_id": "3553e4a01bb84c6993b0364a945d2549",
       "version_major": 2,
       "version_minor": 0
      },
      "text/plain": [
       "Downloading pytorch_model.bin:   0%|          | 0.00/438M [00:00<?, ?B/s]"
      ]
     },
     "metadata": {},
     "output_type": "display_data"
    },
    {
     "data": {
      "application/vnd.jupyter.widget-view+json": {
       "model_id": "2034c50a0b564e318d117f85c2dda68e",
       "version_major": 2,
       "version_minor": 0
      },
      "text/plain": [
       "Downloading (…)nce_bert_config.json:   0%|          | 0.00/53.0 [00:00<?, ?B/s]"
      ]
     },
     "metadata": {},
     "output_type": "display_data"
    },
    {
     "data": {
      "application/vnd.jupyter.widget-view+json": {
       "model_id": "fa25656f5db949c68631eac9af036225",
       "version_major": 2,
       "version_minor": 0
      },
      "text/plain": [
       "Downloading (…)cial_tokens_map.json:   0%|          | 0.00/239 [00:00<?, ?B/s]"
      ]
     },
     "metadata": {},
     "output_type": "display_data"
    },
    {
     "data": {
      "application/vnd.jupyter.widget-view+json": {
       "model_id": "11b41137f68f450d87db4fbb82aa5c15",
       "version_major": 2,
       "version_minor": 0
      },
      "text/plain": [
       "Downloading (…)a8e1d/tokenizer.json:   0%|          | 0.00/466k [00:00<?, ?B/s]"
      ]
     },
     "metadata": {},
     "output_type": "display_data"
    },
    {
     "data": {
      "application/vnd.jupyter.widget-view+json": {
       "model_id": "05ce03176e304738b32f16a4f47d8dd9",
       "version_major": 2,
       "version_minor": 0
      },
      "text/plain": [
       "Downloading (…)okenizer_config.json:   0%|          | 0.00/363 [00:00<?, ?B/s]"
      ]
     },
     "metadata": {},
     "output_type": "display_data"
    },
    {
     "data": {
      "application/vnd.jupyter.widget-view+json": {
       "model_id": "ebff4592b21f4d299e9dfdce68fefed5",
       "version_major": 2,
       "version_minor": 0
      },
      "text/plain": [
       "Downloading (…)8e1d/train_script.py:   0%|          | 0.00/13.1k [00:00<?, ?B/s]"
      ]
     },
     "metadata": {},
     "output_type": "display_data"
    },
    {
     "data": {
      "application/vnd.jupyter.widget-view+json": {
       "model_id": "62b9efb6f9954373aa6df8b08454d599",
       "version_major": 2,
       "version_minor": 0
      },
      "text/plain": [
       "Downloading (…)b20bca8e1d/vocab.txt:   0%|          | 0.00/232k [00:00<?, ?B/s]"
      ]
     },
     "metadata": {},
     "output_type": "display_data"
    },
    {
     "data": {
      "application/vnd.jupyter.widget-view+json": {
       "model_id": "472ae74708ce4baaa5a2b70075cb138e",
       "version_major": 2,
       "version_minor": 0
      },
      "text/plain": [
       "Downloading (…)bca8e1d/modules.json:   0%|          | 0.00/349 [00:00<?, ?B/s]"
      ]
     },
     "metadata": {},
     "output_type": "display_data"
    }
   ],
   "source": [
    "from langchain.embeddings import HuggingFaceEmbeddings\n",
    "\n",
    "model_name = \"sentence-transformers/all-mpnet-base-v2\"\n",
    "model_kwargs = {\"device\": \"cuda\"}\n",
    "\n",
    "embeddings = HuggingFaceEmbeddings(model_name=model_name, model_kwargs=model_kwargs)"
   ]
  },
  {
   "cell_type": "markdown",
   "id": "7b49b00f",
   "metadata": {},
   "source": [
    "## 3. Store the embeddings in a Vector Database"
   ]
  },
  {
   "cell_type": "markdown",
   "id": "dc972909",
   "metadata": {},
   "source": [
    "### Option 1 (small data), use FAISS as Vector Database"
   ]
  },
  {
   "cell_type": "code",
   "execution_count": 4,
   "id": "ad1a525f",
   "metadata": {},
   "outputs": [],
   "source": [
    "# This example uses FAISS and in-memory \n",
    "# !pip install faiss-cpu"
   ]
  },
  {
   "cell_type": "code",
   "execution_count": null,
   "id": "c0463b1d",
   "metadata": {
    "scrolled": false
   },
   "outputs": [],
   "source": [
    "from langchain.vectorstores import FAISS\n",
    "\n",
    "# Create the embeddings and store them in an in-memory DB with FAISS\n",
    "faiss_index = FAISS.from_documents(pages, embeddings)\n",
    "\n",
    "# Optionall save the index\n",
    "faiss_index.save_local(\"faiss_index\")"
   ]
  },
  {
   "cell_type": "code",
   "execution_count": null,
   "id": "9b30f666",
   "metadata": {},
   "outputs": [],
   "source": [
    "# This is how you can load in the index with embeddings saved to a file\n",
    "# for future runs of the notebook\n",
    "\n",
    "# from langchain.vectorstores import FAISS\n",
    "# faiss_index = FAISS.load_local(\"faiss_index\", embeddings)"
   ]
  },
  {
   "cell_type": "markdown",
   "id": "b4d249a4",
   "metadata": {},
   "source": [
    "### Option 2 (large data), use Open Search as Vector Database"
   ]
  },
  {
   "cell_type": "code",
   "execution_count": 4,
   "id": "ef0f011d",
   "metadata": {},
   "outputs": [],
   "source": [
    "# This example uses Open Search as remote vector database\n",
    "# !pip install opensearch-py"
   ]
  },
  {
   "cell_type": "code",
   "execution_count": 6,
   "id": "4d00e998",
   "metadata": {
    "scrolled": false
   },
   "outputs": [],
   "source": [
    "# This creates the embeddings and stored them in an Open Search index\n",
    "# For future runs of the notebook, you can skip this and link to \n",
    "# the Open Search index directly\n",
    "\n",
    "from langchain.vectorstores import OpenSearchVectorSearch\n",
    "from getpass import getpass\n",
    "\n",
    "# Contact Open Search service at CERN to get an instance and the credentials\n",
    "opensearch_url=\"https://es-testspark1.cern.ch:443/es\"\n",
    "opensearch_user=\"test1\"\n",
    "opensearch_pass = getpass()\n",
    "\n",
    "\n",
    "# perform the embeddings and store in OpenSearch\n",
    "docsearch = OpenSearchVectorSearch.from_documents(\n",
    "     documents=pages, \n",
    "     embedding=embeddings, \n",
    "     index_name=\"embd1\",\n",
    "     opensearch_url=opensearch_url, \n",
    "     http_auth=(opensearch_user, opensearch_pass),     \n",
    "     use_ssl = True,\n",
    "     verify_certs = False,\n",
    "     ssl_assert_hostname = False,\n",
    "     ssl_show_warn = False\n",
    ")\n"
   ]
  },
  {
   "cell_type": "code",
   "execution_count": 7,
   "id": "cc2c52f1",
   "metadata": {},
   "outputs": [],
   "source": [
    "# This is how you can load in the index with embeddings stored to Open Search\n",
    "# for future runs of the notebook\n",
    "\n",
    "from langchain.vectorstores import OpenSearchVectorSearch\n",
    "from getpass import getpass\n",
    "\n",
    "# Open Search instance and the credentials\n",
    "opensearch_url=\"https://es-testspark1.cern.ch:443/es\"\n",
    "opensearch_user=\"test1\"\n",
    "opensearch_pass = getpass()\n",
    "\n",
    "\n",
    "# use pre-loaded embeddings in OpenSearch\n",
    "docsearch = OpenSearchVectorSearch(\n",
    "     embedding_function=embeddings, \n",
    "     index_name=\"embd1\",\n",
    "     opensearch_url=opensearch_url, \n",
    "     http_auth=(opensearch_user, opensearch_pass),     \n",
    "     use_ssl = True,\n",
    "     verify_certs = False,\n",
    "     ssl_assert_hostname = False,\n",
    "     ssl_show_warn = False\n",
    ")\n"
   ]
  },
  {
   "cell_type": "markdown",
   "id": "746db788",
   "metadata": {},
   "source": [
    "## 4. Perform semantic search using embeddings"
   ]
  },
  {
   "cell_type": "code",
   "execution_count": 8,
   "id": "225336dd",
   "metadata": {},
   "outputs": [],
   "source": [
    "# Choose the index you have created and want to use for this (FAISS or Open Search)\n",
    "# index = faiss_index # use FAISS in-memory index\n",
    "\n",
    "index = docsearch # use OpenSearch Index\n"
   ]
  },
  {
   "cell_type": "code",
   "execution_count": 10,
   "id": "cc08486b",
   "metadata": {},
   "outputs": [
    {
     "name": "stdout",
     "output_type": "stream",
     "text": [
      "37: the same data volumes as ATLAS. The HL-LHC storage requirements per year are\n",
      "expected to jump by a factor close to 10, which is a growth rate faster than can\n",
      "be accommodated by projected technology gains. Storage will remain one of the\n",
      "major cost drivers for HEP computing, at a level roughly equal t\n",
      "37: the same data volumes as ATLAS. The HL-LHC storage requirements per year are\n",
      "expected to jump by a factor close to 10, which is a growth rate faster than can\n",
      "be accommodated by projected technology gains. Storage will remain one of the\n",
      "major cost drivers for HEP computing, at a level roughly equal t\n"
     ]
    }
   ],
   "source": [
    "# Perform a simple similarity search\n",
    "\n",
    "query = \"How will computing evolve in the next decade with LHC high luminosity?\"\n",
    "\n",
    "found_docs = index.similarity_search(query, k=2)\n",
    "\n",
    "found_docs\n",
    "for doc in found_docs:\n",
    "    print(str(doc.metadata[\"page\"]) + \":\", doc.page_content[:300])\n",
    "    "
   ]
  },
  {
   "cell_type": "markdown",
   "id": "43f1b538",
   "metadata": {},
   "source": [
    "## 5. Transform the results of the search into natural language using a Large Language Model"
   ]
  },
  {
   "cell_type": "code",
   "execution_count": 11,
   "id": "6c0dc431",
   "metadata": {},
   "outputs": [
    {
     "name": "stdout",
     "output_type": "stream",
     "text": [
      "········\n"
     ]
    }
   ],
   "source": [
    "# OpenAI\n",
    "#! pip install openai\n",
    "\n",
    "from langchain.llms import OpenAI\n",
    "import os\n",
    "\n",
    "from getpass import getpass\n",
    "OPENAI_API_KEY = getpass()\n",
    "\n",
    "os.environ['OPENAI_API_KEY'] = OPENAI_API_KEY\n",
    "\n",
    "llm=OpenAI(temperature=0)"
   ]
  },
  {
   "cell_type": "code",
   "execution_count": 12,
   "id": "99656e8d",
   "metadata": {},
   "outputs": [],
   "source": [
    "from langchain.chains import RetrievalQA\n",
    "\n",
    "qa = RetrievalQA.from_chain_type(\n",
    "    llm=llm, \n",
    "    chain_type=\"stuff\", \n",
    "    retriever=index.as_retriever(search_type=\"similarity\", search_kwargs={\"k\":2}), \n",
    "    return_source_documents=True)\n"
   ]
  },
  {
   "cell_type": "code",
   "execution_count": 13,
   "id": "8f0ee654",
   "metadata": {
    "scrolled": false
   },
   "outputs": [
    {
     "name": "stdout",
     "output_type": "stream",
     "text": [
      "huggingface/tokenizers: The current process just got forked, after parallelism has already been used. Disabling parallelism to avoid deadlocks...\n",
      "To disable this warning, you can either:\n",
      "\t- Avoid using `tokenizers` before the fork if possible\n",
      "\t- Explicitly set the environment variable TOKENIZERS_PARALLELISM=(true | false)\n"
     ]
    }
   ],
   "source": [
    "query = \"How will computing evolve in the next decade with LHC high luminosity?\"\n",
    "\n",
    "result = qa({\"query\": query})"
   ]
  },
  {
   "cell_type": "code",
   "execution_count": 14,
   "id": "2bbddec2",
   "metadata": {},
   "outputs": [
    {
     "data": {
      "text/plain": [
       "' Computing will need to evolve to handle the increased data rate and volume, as well as the increased computational requirements. This will likely involve shifts in data presentation and analysis models, such as the use of event-based data streaming, and the use of new types of computing resources, such as cloud and HPC. New applications, such as training for machine learning, may also be employed to meet the computational constraints and extend physics reach.'"
      ]
     },
     "execution_count": 14,
     "metadata": {},
     "output_type": "execute_result"
    }
   ],
   "source": [
    "result['result']"
   ]
  },
  {
   "cell_type": "code",
   "execution_count": null,
   "id": "f0c04538",
   "metadata": {},
   "outputs": [],
   "source": []
  }
 ],
 "metadata": {
  "@webio": {
   "lastCommId": null,
   "lastKernelId": null
  },
  "kernelspec": {
   "display_name": "Python 3 (ipykernel)",
   "language": "python",
   "name": "python3"
  },
  "language_info": {
   "codemirror_mode": {
    "name": "ipython",
    "version": 3
   },
   "file_extension": ".py",
   "mimetype": "text/x-python",
   "name": "python",
   "nbconvert_exporter": "python",
   "pygments_lexer": "ipython3",
   "version": "3.10.9"
  }
 },
 "nbformat": 4,
 "nbformat_minor": 5
}
