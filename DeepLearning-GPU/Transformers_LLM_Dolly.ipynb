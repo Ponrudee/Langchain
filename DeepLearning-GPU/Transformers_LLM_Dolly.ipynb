{
 "cells": [
  {
   "cell_type": "markdown",
   "id": "1dcbaa71",
   "metadata": {},
   "source": [
    "# Dolly, a LLM model\n",
    "Dolly is a small LLM model available for experimentation, see:\n",
    "https://huggingface.co/databricks/dolly-v2-12b"
   ]
  },
  {
   "cell_type": "code",
   "execution_count": 1,
   "id": "c6c2c102",
   "metadata": {},
   "outputs": [],
   "source": [
    "import torch\n",
    "from transformers import pipeline\n",
    "\n",
    "# the 2-12b model is very large, the model 2-3b is smaller\n",
    "#generate_text = pipeline(model=\"databricks/dolly-v2-12b\", torch_dtype=torch.bfloat16, trust_remote_code=True, device_map=\"auto\") # use GPU\n",
    "\n",
    "generate_text = pipeline(model=\"databricks/dolly-v2-3b\", torch_dtype=torch.bfloat16, \n",
    "                         trust_remote_code=True, device=0)"
   ]
  },
  {
   "cell_type": "code",
   "execution_count": 13,
   "id": "cc4ee144",
   "metadata": {},
   "outputs": [
    {
     "name": "stdout",
     "output_type": "stream",
     "text": [
      "A particle accelerator is a type of machine used to accelerate particles to very high speeds.  They can be used to study physics, detect materials, and treat medical diseases.\n"
     ]
    }
   ],
   "source": [
    "# Query the LLM model\n",
    "\n",
    "res = generate_text(\"What is a particle accelerator?\")\n",
    "print(res[0][\"generated_text\"])\n"
   ]
  },
  {
   "cell_type": "code",
   "execution_count": null,
   "id": "b7465888",
   "metadata": {},
   "outputs": [],
   "source": []
  }
 ],
 "metadata": {
  "@webio": {
   "lastCommId": null,
   "lastKernelId": null
  },
  "kernelspec": {
   "display_name": "Python 3",
   "language": "python",
   "name": "python3"
  },
  "language_info": {
   "codemirror_mode": {
    "name": "ipython",
    "version": 3
   },
   "file_extension": ".py",
   "mimetype": "text/x-python",
   "name": "python",
   "nbconvert_exporter": "python",
   "pygments_lexer": "ipython3",
   "version": "3.9.12"
  }
 },
 "nbformat": 4,
 "nbformat_minor": 5
}
