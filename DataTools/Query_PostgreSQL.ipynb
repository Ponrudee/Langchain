{
 "cells": [
  {
   "cell_type": "markdown",
   "id": "1458258b",
   "metadata": {},
   "source": [
    "# How to Connect and Query PostgreSQL for Python\n",
    "\n",
    "This provides and example of how to use Python and Jupyer notebooks on SWAN to connect and query PostgreSQL databases at CERN. The example provided is about generating frequency histograms using SQL.\n",
    "\n",
    "\n",
    "## Setup and prerequisites\n",
    "\n",
    "Prerquites: you need to have credential to connect to an PostgreSQL database. It is recommended that you use a test account. Contact CERN Database on Demand service to request an account if needed."
   ]
  },
  {
   "cell_type": "code",
   "execution_count": 1,
   "id": "81411b15",
   "metadata": {},
   "outputs": [
    {
     "name": "stdout",
     "output_type": "stream",
     "text": [
      "Defaulting to user installation because normal site-packages is not writeable\n",
      "Requirement already satisfied: psycopg2-binary in /eos/home-c/canali/.local/lib/python3.9/site-packages (2.9.6)\n"
     ]
    }
   ],
   "source": [
    "# This notebook uses psycopg2 to connect to PostgreSQL\n",
    "# Install the driver\n",
    "!pip install psycopg2-binary\n",
    "\n",
    "import psycopg2"
   ]
  },
  {
   "cell_type": "code",
   "execution_count": 2,
   "id": "078ea1dc",
   "metadata": {},
   "outputs": [
    {
     "name": "stdout",
     "output_type": "stream",
     "text": [
      "········\n"
     ]
    }
   ],
   "source": [
    "# Edit DB credentials\n",
    "import getpass\n",
    "\n",
    "db_user = 'myaccount' #edit\n",
    "\n",
    "# To avoid storing connection passwords use getpas or db_config\n",
    "db_pass = getpass.getpass()\n",
    "\n",
    "db_name = 'testdb1'\n",
    "\n",
    "port = 6600\n",
    "\n",
    "host_name = 'dbod-mytestdb1.cern.ch' #edit"
   ]
  },
  {
   "cell_type": "markdown",
   "id": "c02081ce",
   "metadata": {},
   "source": [
    "## Create the test table"
   ]
  },
  {
   "cell_type": "code",
   "execution_count": 3,
   "id": "e0ddaadb",
   "metadata": {},
   "outputs": [],
   "source": [
    "# Connect to an existing database and create the test table\n",
    "\n",
    "with psycopg2.connect(f\"dbname={db_name} user={db_user} host={host_name} port={port} password={db_pass}\") as pg_conn:\n",
    "    cur = pg_conn.cursor()\n",
    "    \n",
    "    # use this drop statement if you need to recreate the table\n",
    "    cur.execute(\"DROP TABLE if exists data\")\n",
    "\n",
    "    cur.execute(\"CREATE TABLE data as select random()*100 random_value from generate_series(1, 100);\")"
   ]
  },
  {
   "cell_type": "markdown",
   "id": "b9337750",
   "metadata": {},
   "source": [
    "## Define the query to compute the histogram"
   ]
  },
  {
   "cell_type": "code",
   "execution_count": 4,
   "id": "e844ab4d",
   "metadata": {},
   "outputs": [],
   "source": [
    "table_name = \"data\" # table or temporary view containing the data\n",
    "value_col = \"random_value\" # column name on which to compute the histogram\n",
    "min = -20  # min: minimum value in the histogram\n",
    "max = 90   # maximum value in the histogram\n",
    "bins = 11  # number of histogram buckets to compute\n",
    "step = (max - min) / bins\n",
    "        \n",
    "query = f\"\"\"\n",
    "with hist as (\n",
    "  select \n",
    "      width_bucket({value_col}, {min}, {max}, {bins}) as bucket,\n",
    "      count(*) as cnt\n",
    "  from {table_name}\n",
    "  group by bucket\n",
    "),\n",
    "buckets as (\n",
    "  select generate_series as bucket from generate_series(1,{bins})\n",
    ")\n",
    "select\n",
    "    bucket, {min} + (bucket - 0.5) * {step} as value,\n",
    "    coalesce(cnt, 0) as count\n",
    "from hist right outer join buckets using(bucket)\n",
    "order by bucket\n",
    "\"\"\""
   ]
  },
  {
   "cell_type": "markdown",
   "id": "6b109925",
   "metadata": {},
   "source": [
    "## Fetch the histogram data into a Pandas dataframe using SQLAlchemy"
   ]
  },
  {
   "cell_type": "code",
   "execution_count": 5,
   "id": "99b2ced8",
   "metadata": {},
   "outputs": [],
   "source": [
    "import pandas as pd\n",
    "from sqlalchemy import create_engine\n",
    "\n",
    "# create SQLAlchemy engine\n",
    "engine = create_engine(f\"postgresql+psycopg2://{db_user}:{db_pass}@{host_name}:{port}/{db_name}\")\n"
   ]
  },
  {
   "cell_type": "code",
   "execution_count": 6,
   "id": "e416e3c7",
   "metadata": {},
   "outputs": [
    {
     "data": {
      "text/html": [
       "<div>\n",
       "<style scoped>\n",
       "    .dataframe tbody tr th:only-of-type {\n",
       "        vertical-align: middle;\n",
       "    }\n",
       "\n",
       "    .dataframe tbody tr th {\n",
       "        vertical-align: top;\n",
       "    }\n",
       "\n",
       "    .dataframe thead th {\n",
       "        text-align: right;\n",
       "    }\n",
       "</style>\n",
       "<table border=\"1\" class=\"dataframe\">\n",
       "  <thead>\n",
       "    <tr style=\"text-align: right;\">\n",
       "      <th></th>\n",
       "      <th>bucket</th>\n",
       "      <th>value</th>\n",
       "      <th>count</th>\n",
       "    </tr>\n",
       "  </thead>\n",
       "  <tbody>\n",
       "    <tr>\n",
       "      <th>0</th>\n",
       "      <td>1</td>\n",
       "      <td>-15.0</td>\n",
       "      <td>0</td>\n",
       "    </tr>\n",
       "    <tr>\n",
       "      <th>1</th>\n",
       "      <td>2</td>\n",
       "      <td>-5.0</td>\n",
       "      <td>0</td>\n",
       "    </tr>\n",
       "    <tr>\n",
       "      <th>2</th>\n",
       "      <td>3</td>\n",
       "      <td>5.0</td>\n",
       "      <td>10</td>\n",
       "    </tr>\n",
       "    <tr>\n",
       "      <th>3</th>\n",
       "      <td>4</td>\n",
       "      <td>15.0</td>\n",
       "      <td>13</td>\n",
       "    </tr>\n",
       "    <tr>\n",
       "      <th>4</th>\n",
       "      <td>5</td>\n",
       "      <td>25.0</td>\n",
       "      <td>10</td>\n",
       "    </tr>\n",
       "    <tr>\n",
       "      <th>5</th>\n",
       "      <td>6</td>\n",
       "      <td>35.0</td>\n",
       "      <td>11</td>\n",
       "    </tr>\n",
       "    <tr>\n",
       "      <th>6</th>\n",
       "      <td>7</td>\n",
       "      <td>45.0</td>\n",
       "      <td>8</td>\n",
       "    </tr>\n",
       "    <tr>\n",
       "      <th>7</th>\n",
       "      <td>8</td>\n",
       "      <td>55.0</td>\n",
       "      <td>9</td>\n",
       "    </tr>\n",
       "    <tr>\n",
       "      <th>8</th>\n",
       "      <td>9</td>\n",
       "      <td>65.0</td>\n",
       "      <td>12</td>\n",
       "    </tr>\n",
       "    <tr>\n",
       "      <th>9</th>\n",
       "      <td>10</td>\n",
       "      <td>75.0</td>\n",
       "      <td>9</td>\n",
       "    </tr>\n",
       "    <tr>\n",
       "      <th>10</th>\n",
       "      <td>11</td>\n",
       "      <td>85.0</td>\n",
       "      <td>8</td>\n",
       "    </tr>\n",
       "  </tbody>\n",
       "</table>\n",
       "</div>"
      ],
      "text/plain": [
       "    bucket  value  count\n",
       "0        1  -15.0      0\n",
       "1        2   -5.0      0\n",
       "2        3    5.0     10\n",
       "3        4   15.0     13\n",
       "4        5   25.0     10\n",
       "5        6   35.0     11\n",
       "6        7   45.0      8\n",
       "7        8   55.0      9\n",
       "8        9   65.0     12\n",
       "9       10   75.0      9\n",
       "10      11   85.0      8"
      ]
     },
     "execution_count": 6,
     "metadata": {},
     "output_type": "execute_result"
    }
   ],
   "source": [
    "# query Oracle using ora_conn and put the result into a pandas Dataframe\n",
    "hist_pandasDF = pd.read_sql(query, engine)\n",
    "\n",
    "# Decription of the resulting dataframe\n",
    "#\n",
    "# BUCKET: the bucket number, range from 1 to bins (included)\n",
    "# VALUE: midpoint value of the given bucket\n",
    "# COUNT: number of values in the bucket \n",
    "\n",
    "hist_pandasDF\n"
   ]
  },
  {
   "cell_type": "code",
   "execution_count": 7,
   "id": "2c3b67b5",
   "metadata": {},
   "outputs": [
    {
     "data": {
      "text/html": [
       "<div>\n",
       "<style scoped>\n",
       "    .dataframe tbody tr th:only-of-type {\n",
       "        vertical-align: middle;\n",
       "    }\n",
       "\n",
       "    .dataframe tbody tr th {\n",
       "        vertical-align: top;\n",
       "    }\n",
       "\n",
       "    .dataframe thead th {\n",
       "        text-align: right;\n",
       "    }\n",
       "</style>\n",
       "<table border=\"1\" class=\"dataframe\">\n",
       "  <thead>\n",
       "    <tr style=\"text-align: right;\">\n",
       "      <th></th>\n",
       "      <th>bucket</th>\n",
       "      <th>value</th>\n",
       "      <th>count</th>\n",
       "      <th>frequency</th>\n",
       "    </tr>\n",
       "  </thead>\n",
       "  <tbody>\n",
       "    <tr>\n",
       "      <th>0</th>\n",
       "      <td>1</td>\n",
       "      <td>-15.0</td>\n",
       "      <td>0</td>\n",
       "      <td>0.000000</td>\n",
       "    </tr>\n",
       "    <tr>\n",
       "      <th>1</th>\n",
       "      <td>2</td>\n",
       "      <td>-5.0</td>\n",
       "      <td>0</td>\n",
       "      <td>0.000000</td>\n",
       "    </tr>\n",
       "    <tr>\n",
       "      <th>2</th>\n",
       "      <td>3</td>\n",
       "      <td>5.0</td>\n",
       "      <td>10</td>\n",
       "      <td>0.111111</td>\n",
       "    </tr>\n",
       "    <tr>\n",
       "      <th>3</th>\n",
       "      <td>4</td>\n",
       "      <td>15.0</td>\n",
       "      <td>13</td>\n",
       "      <td>0.144444</td>\n",
       "    </tr>\n",
       "    <tr>\n",
       "      <th>4</th>\n",
       "      <td>5</td>\n",
       "      <td>25.0</td>\n",
       "      <td>10</td>\n",
       "      <td>0.111111</td>\n",
       "    </tr>\n",
       "    <tr>\n",
       "      <th>5</th>\n",
       "      <td>6</td>\n",
       "      <td>35.0</td>\n",
       "      <td>11</td>\n",
       "      <td>0.122222</td>\n",
       "    </tr>\n",
       "    <tr>\n",
       "      <th>6</th>\n",
       "      <td>7</td>\n",
       "      <td>45.0</td>\n",
       "      <td>8</td>\n",
       "      <td>0.088889</td>\n",
       "    </tr>\n",
       "    <tr>\n",
       "      <th>7</th>\n",
       "      <td>8</td>\n",
       "      <td>55.0</td>\n",
       "      <td>9</td>\n",
       "      <td>0.100000</td>\n",
       "    </tr>\n",
       "    <tr>\n",
       "      <th>8</th>\n",
       "      <td>9</td>\n",
       "      <td>65.0</td>\n",
       "      <td>12</td>\n",
       "      <td>0.133333</td>\n",
       "    </tr>\n",
       "    <tr>\n",
       "      <th>9</th>\n",
       "      <td>10</td>\n",
       "      <td>75.0</td>\n",
       "      <td>9</td>\n",
       "      <td>0.100000</td>\n",
       "    </tr>\n",
       "    <tr>\n",
       "      <th>10</th>\n",
       "      <td>11</td>\n",
       "      <td>85.0</td>\n",
       "      <td>8</td>\n",
       "      <td>0.088889</td>\n",
       "    </tr>\n",
       "  </tbody>\n",
       "</table>\n",
       "</div>"
      ],
      "text/plain": [
       "    bucket  value  count  frequency\n",
       "0        1  -15.0      0   0.000000\n",
       "1        2   -5.0      0   0.000000\n",
       "2        3    5.0     10   0.111111\n",
       "3        4   15.0     13   0.144444\n",
       "4        5   25.0     10   0.111111\n",
       "5        6   35.0     11   0.122222\n",
       "6        7   45.0      8   0.088889\n",
       "7        8   55.0      9   0.100000\n",
       "8        9   65.0     12   0.133333\n",
       "9       10   75.0      9   0.100000\n",
       "10      11   85.0      8   0.088889"
      ]
     },
     "execution_count": 7,
     "metadata": {},
     "output_type": "execute_result"
    }
   ],
   "source": [
    "# Optionally normalize the event count into a frequency\n",
    "# dividing by the total number of events\n",
    " \n",
    "hist_pandasDF[\"frequency\"] = hist_pandasDF[\"count\"] / sum(hist_pandasDF[\"count\"]) \n",
    "              \n",
    "hist_pandasDF\n"
   ]
  },
  {
   "cell_type": "markdown",
   "id": "95f6a268",
   "metadata": {},
   "source": [
    "## Histogram plotting\n",
    "The first plot is a histogram with the event counts (number of events per bin). The second plot is a histogram of the events frequencies (number of events per bin normalized by the sum of the events)."
   ]
  },
  {
   "cell_type": "code",
   "execution_count": 8,
   "id": "3fdf5ab1",
   "metadata": {},
   "outputs": [
    {
     "data": {
      "image/png": "[encoded data removed]",
      "text/plain": [
       "<Figure size 1008x720 with 1 Axes>"
      ]
     },
     "metadata": {
      "needs_background": "light"
     },
     "output_type": "display_data"
    }
   ],
   "source": [
    "import matplotlib.pyplot as plt \n",
    "\n",
    "plt.rcParams.update({'font.size': 20, 'figure.figsize': [14,10]})\n",
    "\n",
    "f, ax = plt.subplots()\n",
    "\n",
    "# histogram data\n",
    "x = hist_pandasDF[\"value\"]\n",
    "y = hist_pandasDF[\"count\"]\n",
    "\n",
    "# bar plot\n",
    "ax.bar(x, y, width = 3.0, color='red')\n",
    "\n",
    "ax.set_xlabel(\"Bucket values\")\n",
    "ax.set_ylabel(\"Event count\")\n",
    "ax.set_title(\"Distribution of event counts\")\n",
    "\n",
    "# Label for the resonances spectrum peaks\n",
    "txt_opts = {'horizontalalignment': 'center',\n",
    "            'verticalalignment': 'center',\n",
    "            'transform': ax.transAxes}\n",
    "\n",
    "plt.show()\n"
   ]
  },
  {
   "cell_type": "code",
   "execution_count": 9,
   "id": "a702db74",
   "metadata": {},
   "outputs": [
    {
     "data": {
      "image/png": "[encoded data removed]",
      "text/plain": [
       "<Figure size 1008x720 with 1 Axes>"
      ]
     },
     "metadata": {
      "needs_background": "light"
     },
     "output_type": "display_data"
    }
   ],
   "source": [
    "import matplotlib.pyplot as plt \n",
    "plt.rcParams.update({'font.size': 20, 'figure.figsize': [14,10]})\n",
    "\n",
    "f, ax = plt.subplots()\n",
    "\n",
    "# histogram data\n",
    "x = hist_pandasDF[\"value\"]\n",
    "y = hist_pandasDF[\"frequency\"]\n",
    "\n",
    "# bar plot\n",
    "ax.bar(x, y, width = 3.0, color='blue')\n",
    "\n",
    "ax.set_xlabel(\"Bucket values\")\n",
    "ax.set_ylabel(\"Event frequency\")\n",
    "ax.set_title(\"Distribution of event frequencies\")\n",
    "\n",
    "# Label for the resonances spectrum peaks\n",
    "txt_opts = {'horizontalalignment': 'center',\n",
    "            'verticalalignment': 'center',\n",
    "            'transform': ax.transAxes}\n",
    "\n",
    "plt.show()"
   ]
  },
  {
   "cell_type": "code",
   "execution_count": null,
   "id": "18cdd652",
   "metadata": {},
   "outputs": [],
   "source": []
  }
 ],
 "metadata": {
  "@webio": {
   "lastCommId": null,
   "lastKernelId": null
  },
  "kernelspec": {
   "display_name": "Python 3",
   "language": "python",
   "name": "python3"
  },
  "language_info": {
   "codemirror_mode": {
    "name": "ipython",
    "version": 3
   },
   "file_extension": ".py",
   "mimetype": "text/x-python",
   "name": "python",
   "nbconvert_exporter": "python",
   "pygments_lexer": "ipython3",
   "version": "3.9.12"
  },
  "widgets": {
   "application/vnd.jupyter.widget-state+json": {
    "state": {},
    "version_major": 2,
    "version_minor": 0
   }
  }
 },
 "nbformat": 4,
 "nbformat_minor": 5
}
