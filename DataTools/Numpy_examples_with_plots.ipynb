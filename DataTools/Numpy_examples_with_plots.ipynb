{
 "cells": [
  {
   "cell_type": "markdown",
   "id": "589a1326",
   "metadata": {},
   "source": [
    "# Numpy examples with plots\n",
    "NumPy is a foundation package for scientific computing."
   ]
  },
  {
   "cell_type": "code",
   "execution_count": 1,
   "id": "fb93ebe3",
   "metadata": {},
   "outputs": [],
   "source": [
    "import numpy as np"
   ]
  },
  {
   "cell_type": "markdown",
   "id": "0a2ef351",
   "metadata": {},
   "source": [
    " ## Creating NumPy Arrays"
   ]
  },
  {
   "cell_type": "code",
   "execution_count": 2,
   "id": "a1d06454",
   "metadata": {},
   "outputs": [
    {
     "data": {
      "text/plain": [
       "array([1, 2, 3, 4, 5])"
      ]
     },
     "execution_count": 2,
     "metadata": {},
     "output_type": "execute_result"
    }
   ],
   "source": [
    "# Create a numpy array from a Python list\n",
    "\n",
    "my_list = [1, 2, 3, 4, 5]\n",
    "arr = np.array(my_list)\n",
    "arr"
   ]
  },
  {
   "cell_type": "code",
   "execution_count": 3,
   "id": "7dc63ba4",
   "metadata": {},
   "outputs": [
    {
     "data": {
      "text/plain": [
       "array([0, 2, 4, 6, 8])"
      ]
     },
     "execution_count": 3,
     "metadata": {},
     "output_type": "execute_result"
    }
   ],
   "source": [
    "# Create a numpy array with evenly spaced values\n",
    "\n",
    "arr = np.arange(start=0, stop=10, step=2)  \n",
    "arr"
   ]
  },
  {
   "cell_type": "code",
   "execution_count": 4,
   "id": "b1272d35",
   "metadata": {},
   "outputs": [
    {
     "data": {
      "text/plain": [
       "array([0.31334374, 0.84585485, 0.30977214, 0.70435732, 0.68546196,\n",
       "       0.81527989])"
      ]
     },
     "execution_count": 4,
     "metadata": {},
     "output_type": "execute_result"
    }
   ],
   "source": [
    "# Create a 1D array with 6 random values between 0 and 1\n",
    "\n",
    "arr = np.random.rand(6)  \n",
    "arr"
   ]
  },
  {
   "cell_type": "markdown",
   "id": "d583552d",
   "metadata": {},
   "source": [
    "## NumPy Array Operations"
   ]
  },
  {
   "cell_type": "code",
   "execution_count": 5,
   "id": "c2fb1348",
   "metadata": {},
   "outputs": [
    {
     "data": {
      "text/plain": [
       "0.3133437374403655"
      ]
     },
     "execution_count": 5,
     "metadata": {},
     "output_type": "execute_result"
    }
   ],
   "source": [
    "arr[0]  # Accesses the element at index 0\n"
   ]
  },
  {
   "cell_type": "code",
   "execution_count": 6,
   "id": "622e5686",
   "metadata": {},
   "outputs": [
    {
     "data": {
      "text/plain": [
       "array([0.84585485, 0.30977214, 0.70435732])"
      ]
     },
     "execution_count": 6,
     "metadata": {},
     "output_type": "execute_result"
    }
   ],
   "source": [
    "arr[1:4]  # Accesses a slice of elements from index 1 to 3 (exclusive)"
   ]
  },
  {
   "cell_type": "code",
   "execution_count": 7,
   "id": "d0079b12",
   "metadata": {},
   "outputs": [
    {
     "data": {
      "text/plain": [
       "(6,)"
      ]
     },
     "execution_count": 7,
     "metadata": {},
     "output_type": "execute_result"
    }
   ],
   "source": [
    "arr.shape  # Returns the shape of the array (dimensions)\n"
   ]
  },
  {
   "cell_type": "code",
   "execution_count": 8,
   "id": "d417fb9e",
   "metadata": {},
   "outputs": [
    {
     "data": {
      "text/plain": [
       "6"
      ]
     },
     "execution_count": 8,
     "metadata": {},
     "output_type": "execute_result"
    }
   ],
   "source": [
    "arr.size  # Returns the total number of elements in the array\n"
   ]
  },
  {
   "cell_type": "code",
   "execution_count": 9,
   "id": "a80e4414",
   "metadata": {},
   "outputs": [
    {
     "data": {
      "text/plain": [
       "0.6123449836881373"
      ]
     },
     "execution_count": 9,
     "metadata": {},
     "output_type": "execute_result"
    }
   ],
   "source": [
    "np.mean(arr)  # Computes the mean of the array\n"
   ]
  },
  {
   "cell_type": "code",
   "execution_count": 10,
   "id": "6c8ae366",
   "metadata": {},
   "outputs": [
    {
     "data": {
      "text/plain": [
       "0.8458548489635508"
      ]
     },
     "execution_count": 10,
     "metadata": {},
     "output_type": "execute_result"
    }
   ],
   "source": [
    "np.max(arr)  # Finds the maximum value in the array\n"
   ]
  },
  {
   "cell_type": "code",
   "execution_count": 11,
   "id": "8c7d1b27",
   "metadata": {},
   "outputs": [
    {
     "data": {
      "text/plain": [
       "3.6740699021288235"
      ]
     },
     "execution_count": 11,
     "metadata": {},
     "output_type": "execute_result"
    }
   ],
   "source": [
    "np.sum(arr)  # Computes the sum of all elements in the array"
   ]
  },
  {
   "cell_type": "code",
   "execution_count": 12,
   "id": "8b04476a",
   "metadata": {},
   "outputs": [
    {
     "data": {
      "text/plain": [
       "array([[0.31334374, 0.84585485, 0.30977214],\n",
       "       [0.70435732, 0.68546196, 0.81527989]])"
      ]
     },
     "execution_count": 12,
     "metadata": {},
     "output_type": "execute_result"
    }
   ],
   "source": [
    "# Reshaping\n",
    "arr.reshape((2, 3))  # Reshapes the array into a 2x3 matrix"
   ]
  },
  {
   "cell_type": "code",
   "execution_count": 13,
   "id": "120deab7",
   "metadata": {},
   "outputs": [
    {
     "data": {
      "text/plain": [
       "array([5.31334374, 5.84585485, 5.30977214, 5.70435732, 5.68546196,\n",
       "       5.81527989])"
      ]
     },
     "execution_count": 13,
     "metadata": {},
     "output_type": "execute_result"
    }
   ],
   "source": [
    "# Broadcasting\n",
    "arr = arr + 5  # Adds 5 to each element of the array\n",
    "arr"
   ]
  },
  {
   "cell_type": "markdown",
   "id": "3cb5fbaf",
   "metadata": {},
   "source": [
    "## Array manipulation"
   ]
  },
  {
   "cell_type": "code",
   "execution_count": 14,
   "id": "40d9155e",
   "metadata": {},
   "outputs": [
    {
     "data": {
      "text/plain": [
       "array([5.31334374, 5.84585485, 5.30977214, 5.70435732, 5.68546196,\n",
       "       5.81527989])"
      ]
     },
     "execution_count": 14,
     "metadata": {},
     "output_type": "execute_result"
    }
   ],
   "source": [
    "arr.T  # Returns the transpose of the array\n",
    "arr"
   ]
  },
  {
   "cell_type": "code",
   "execution_count": 15,
   "id": "3cac35ca",
   "metadata": {},
   "outputs": [
    {
     "data": {
      "text/plain": [
       "array([5.31334374, 5.84585485, 5.30977214, 5.70435732, 5.68546196,\n",
       "       5.81527989, 0.        , 2.        , 4.        , 6.        ,\n",
       "       8.        ])"
      ]
     },
     "execution_count": 15,
     "metadata": {},
     "output_type": "execute_result"
    }
   ],
   "source": [
    "# Concatenation\n",
    "arr1 = np.arange(start=0, stop=10, step=2)  \n",
    "\n",
    "arr_new = np.concatenate((arr, arr1))  # Concatenates two arrays along a specified axis\n",
    "\n",
    "arr_new"
   ]
  },
  {
   "cell_type": "code",
   "execution_count": 16,
   "id": "30d822c5",
   "metadata": {},
   "outputs": [
    {
     "data": {
      "text/plain": [
       "[array([5.31334374, 5.84585485, 5.30977214]),\n",
       " array([5.70435732, 5.68546196, 5.81527989])]"
      ]
     },
     "execution_count": 16,
     "metadata": {},
     "output_type": "execute_result"
    }
   ],
   "source": [
    "# Splitting\n",
    "np.split(arr, 2)  # Splits the array into two equal parts"
   ]
  },
  {
   "cell_type": "code",
   "execution_count": 17,
   "id": "9489d1c7",
   "metadata": {},
   "outputs": [
    {
     "data": {
      "text/plain": [
       "array([5.84585485, 5.30977214])"
      ]
     },
     "execution_count": 17,
     "metadata": {},
     "output_type": "execute_result"
    }
   ],
   "source": [
    "# Extract a slice form the array\n",
    "arr[1:3]"
   ]
  },
  {
   "cell_type": "code",
   "execution_count": 18,
   "id": "5750037f",
   "metadata": {},
   "outputs": [
    {
     "name": "stdout",
     "output_type": "stream",
     "text": [
      "[11 22 33]\n"
     ]
    }
   ],
   "source": [
    "# Sum of 2 arrays\n",
    "\n",
    "arr1 = np.array([1, 2, 3])\n",
    "arr2 = np.array([10, 20, 30])\n",
    "result = arr1 + arr2  # Adds the arrays element-wise\n",
    "print(result)"
   ]
  },
  {
   "cell_type": "markdown",
   "id": "7ebeb337",
   "metadata": {},
   "source": [
    "## NumPy and Statistics"
   ]
  },
  {
   "cell_type": "code",
   "execution_count": 19,
   "id": "6328cfc5",
   "metadata": {},
   "outputs": [
    {
     "data": {
      "text/plain": [
       "20.0"
      ]
     },
     "execution_count": 19,
     "metadata": {},
     "output_type": "execute_result"
    }
   ],
   "source": [
    "data = np.array([10, 15, 20, 25, 30])\n",
    "\n",
    "mean = np.mean(data)  # Computes the mean of the data\n",
    "mean"
   ]
  },
  {
   "cell_type": "code",
   "execution_count": 20,
   "id": "8f4c7c2a",
   "metadata": {},
   "outputs": [
    {
     "data": {
      "text/plain": [
       "7.0710678118654755"
      ]
     },
     "execution_count": 20,
     "metadata": {},
     "output_type": "execute_result"
    }
   ],
   "source": [
    "std = np.std(data)  # Computes the standard deviation of the data\n",
    "std"
   ]
  },
  {
   "cell_type": "markdown",
   "id": "145a6cbc",
   "metadata": {},
   "source": [
    "## Creating Multidimensional Arrays"
   ]
  },
  {
   "cell_type": "code",
   "execution_count": 21,
   "id": "eb34488a",
   "metadata": {},
   "outputs": [
    {
     "name": "stdout",
     "output_type": "stream",
     "text": [
      "[[1 2 3]\n",
      " [4 5 6]]\n"
     ]
    }
   ],
   "source": [
    "arr = np.array([[1, 2, 3], [4, 5, 6]])\n",
    "print(arr)\n"
   ]
  },
  {
   "cell_type": "code",
   "execution_count": 22,
   "id": "6b7da1e6",
   "metadata": {},
   "outputs": [
    {
     "data": {
      "text/plain": [
       "array([[0., 0., 0., 0.],\n",
       "       [0., 0., 0., 0.],\n",
       "       [0., 0., 0., 0.]])"
      ]
     },
     "execution_count": 22,
     "metadata": {},
     "output_type": "execute_result"
    }
   ],
   "source": [
    "zeros_arr = np.zeros((3, 4))  # Creates a 3x4 array filled with zeros\n",
    "zeros_arr"
   ]
  },
  {
   "cell_type": "code",
   "execution_count": 23,
   "id": "33c9430d",
   "metadata": {},
   "outputs": [
    {
     "data": {
      "text/plain": [
       "array([[1., 1., 1.],\n",
       "       [1., 1., 1.]])"
      ]
     },
     "execution_count": 23,
     "metadata": {},
     "output_type": "execute_result"
    }
   ],
   "source": [
    "ones_arr = np.ones((2, 3))  # Creates a 2x3 array filled with ones\n",
    "ones_arr"
   ]
  },
  {
   "cell_type": "code",
   "execution_count": 24,
   "id": "1718cc43",
   "metadata": {},
   "outputs": [
    {
     "data": {
      "text/plain": [
       "array([[1., 0., 0.],\n",
       "       [0., 1., 0.],\n",
       "       [0., 0., 1.]])"
      ]
     },
     "execution_count": 24,
     "metadata": {},
     "output_type": "execute_result"
    }
   ],
   "source": [
    "identity_mat = np.eye(3)  # Creates a 3x3 identity matrix\n",
    "identity_mat"
   ]
  },
  {
   "cell_type": "code",
   "execution_count": 25,
   "id": "cf13054b",
   "metadata": {},
   "outputs": [
    {
     "data": {
      "text/plain": [
       "array([[0.17128251, 0.01012276],\n",
       "       [0.50822073, 0.90303273]])"
      ]
     },
     "execution_count": 25,
     "metadata": {},
     "output_type": "execute_result"
    }
   ],
   "source": [
    "random_arr = np.random.rand(2, 2)  # Creates a 2x2 array with random values between 0 and 1\n",
    "random_arr"
   ]
  },
  {
   "cell_type": "markdown",
   "id": "a03501f5",
   "metadata": {},
   "source": [
    "## Plots and visualization"
   ]
  },
  {
   "cell_type": "markdown",
   "id": "09bae6c0",
   "metadata": {},
   "source": [
    "### Line Plot"
   ]
  },
  {
   "cell_type": "code",
   "execution_count": 31,
   "id": "088774f0",
   "metadata": {},
   "outputs": [
    {
     "data": {
      "image/png": "[encoded data removed]",
      "text/plain": [
       "<Figure size 1008x720 with 1 Axes>"
      ]
     },
     "metadata": {
      "needs_background": "light"
     },
     "output_type": "display_data"
    }
   ],
   "source": [
    "import numpy as np\n",
    "import matplotlib.pyplot as plt\n",
    "\n",
    "plt.rcParams.update({'font.size': 20, 'figure.figsize': [14,10]})\n",
    "\n",
    "# Generate data\n",
    "x = np.linspace(0, 2*np.pi, 100)\n",
    "y = np.sin(x)\n",
    "\n",
    "# Create a line plot\n",
    "plt.plot(x, y)\n",
    "plt.xlabel('x')\n",
    "plt.ylabel('y')\n",
    "plt.title('Sine Wave')\n",
    "plt.show()"
   ]
  },
  {
   "cell_type": "markdown",
   "id": "c89832d2",
   "metadata": {},
   "source": [
    "### Scatter Plot"
   ]
  },
  {
   "cell_type": "code",
   "execution_count": 32,
   "id": "33cc2622",
   "metadata": {},
   "outputs": [
    {
     "data": {
      "image/png": "[encoded data removed]",
      "text/plain": [
       "<Figure size 1008x720 with 2 Axes>"
      ]
     },
     "metadata": {
      "needs_background": "light"
     },
     "output_type": "display_data"
    }
   ],
   "source": [
    "import numpy as np\n",
    "import matplotlib.pyplot as plt\n",
    "\n",
    "# Generate random data\n",
    "x = np.random.rand(100)\n",
    "y = np.random.rand(100)\n",
    "colors = np.random.rand(100)\n",
    "sizes = 100 * np.random.rand(100)\n",
    "\n",
    "# Create a scatter plot\n",
    "plt.scatter(x, y, c=colors, s=sizes, alpha=0.5)\n",
    "plt.xlabel('x')\n",
    "plt.ylabel('y')\n",
    "plt.title('Scatter Plot')\n",
    "plt.colorbar()\n",
    "plt.show()\n"
   ]
  },
  {
   "cell_type": "markdown",
   "id": "3cdf6ad7",
   "metadata": {},
   "source": [
    "### Histogram"
   ]
  },
  {
   "cell_type": "code",
   "execution_count": 33,
   "id": "d83471ea",
   "metadata": {},
   "outputs": [
    {
     "data": {
      "image/png": "[encoded data removed]",
      "text/plain": [
       "<Figure size 1008x720 with 1 Axes>"
      ]
     },
     "metadata": {
      "needs_background": "light"
     },
     "output_type": "display_data"
    }
   ],
   "source": [
    "import numpy as np\n",
    "import matplotlib.pyplot as plt\n",
    "\n",
    "# Generate random data\n",
    "data = np.random.randn(1000)\n",
    "\n",
    "# Create a histogram\n",
    "plt.hist(data, bins=30, alpha=0.7)\n",
    "plt.xlabel('Value')\n",
    "plt.ylabel('Frequency')\n",
    "plt.title('Histogram')\n",
    "plt.show()\n"
   ]
  },
  {
   "cell_type": "markdown",
   "id": "99a00d60",
   "metadata": {},
   "source": [
    "### Bar Plot"
   ]
  },
  {
   "cell_type": "code",
   "execution_count": 34,
   "id": "a99f3583",
   "metadata": {},
   "outputs": [
    {
     "data": {
      "image/png": "[encoded data removed]",
      "text/plain": [
       "<Figure size 1008x720 with 1 Axes>"
      ]
     },
     "metadata": {
      "needs_background": "light"
     },
     "output_type": "display_data"
    }
   ],
   "source": [
    "import numpy as np\n",
    "import matplotlib.pyplot as plt\n",
    "\n",
    "# Generate data\n",
    "labels = ['A', 'B', 'C', 'D']\n",
    "values = [10, 15, 7, 12]\n",
    "\n",
    "# Create a bar plot\n",
    "plt.bar(labels, values)\n",
    "plt.xlabel('Category')\n",
    "plt.ylabel('Value')\n",
    "plt.title('Bar Plot')\n",
    "plt.show()\n"
   ]
  },
  {
   "cell_type": "markdown",
   "id": "24dff6c5",
   "metadata": {},
   "source": [
    "### Heatmap"
   ]
  },
  {
   "cell_type": "code",
   "execution_count": 35,
   "id": "39f4a93e",
   "metadata": {},
   "outputs": [
    {
     "data": {
      "image/png": "[encoded data removed]",
      "text/plain": [
       "<Figure size 1008x720 with 2 Axes>"
      ]
     },
     "metadata": {
      "needs_background": "light"
     },
     "output_type": "display_data"
    }
   ],
   "source": [
    "import numpy as np\n",
    "import matplotlib.pyplot as plt\n",
    "\n",
    "# Generate random data\n",
    "data = np.random.rand(10, 10)\n",
    "\n",
    "# Create a heatmap\n",
    "plt.imshow(data, cmap='hot')\n",
    "plt.colorbar()\n",
    "plt.title('Heatmap')\n",
    "plt.show()\n"
   ]
  },
  {
   "cell_type": "code",
   "execution_count": null,
   "id": "e3c97098",
   "metadata": {},
   "outputs": [],
   "source": []
  }
 ],
 "metadata": {
  "kernelspec": {
   "display_name": "Python 3",
   "language": "python",
   "name": "python3"
  },
  "language_info": {
   "codemirror_mode": {
    "name": "ipython",
    "version": 3
   },
   "file_extension": ".py",
   "mimetype": "text/x-python",
   "name": "python",
   "nbconvert_exporter": "python",
   "pygments_lexer": "ipython3",
   "version": "3.9.12"
  }
 },
 "nbformat": 4,
 "nbformat_minor": 5
}
